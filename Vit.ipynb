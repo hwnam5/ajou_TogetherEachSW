{
  "cells": [
    {
      "cell_type": "markdown",
      "metadata": {
        "id": "view-in-github",
        "colab_type": "text"
      },
      "source": [
        "<a href=\"https://colab.research.google.com/github/hwnam5/ajou_TogetherEachSW/blob/main/Vit.ipynb\" target=\"_parent\"><img src=\"https://colab.research.google.com/assets/colab-badge.svg\" alt=\"Open In Colab\"/></a>"
      ]
    },
    {
      "cell_type": "code",
      "execution_count": 20,
      "metadata": {
        "id": "ucuqYlRE9g9V"
      },
      "outputs": [],
      "source": [
        "import numpy as np\n",
        "import tensorflow as tf\n",
        "import matplotlib.pyplot as plt\n",
        "import time\n",
        "from tensorflow.keras import layers, models\n",
        "from tensorflow.keras.activations import softmax"
      ]
    },
    {
      "cell_type": "code",
      "source": [
        "gpus = tf.config.experimental.list_physical_devices('GPU')\n",
        "if gpus:\n",
        "  try:\n",
        "    # Currently, memory growth needs to be the same across GPUs\n",
        "    for gpu in gpus:\n",
        "      tf.config.experimental.set_memory_growth(gpu, True)\n",
        "    logical_gpus = tf.config.experimental.list_logical_devices('GPU')\n",
        "    print(len(gpus), \"Physical GPUs,\", len(logical_gpus), \"Logical GPUs\")\n",
        "  except RuntimeError as e:\n",
        "    # Memory growth must be set before GPUs have been initialized\n",
        "    print(e)"
      ],
      "metadata": {
        "colab": {
          "base_uri": "https://localhost:8080/"
        },
        "id": "7LsxMQhe_JbK",
        "outputId": "065fe176-672e-4211-b9ff-cf3f40d1ad48"
      },
      "execution_count": 3,
      "outputs": [
        {
          "output_type": "stream",
          "name": "stdout",
          "text": [
            "1 Physical GPUs, 1 Logical GPUs\n"
          ]
        }
      ]
    },
    {
      "cell_type": "code",
      "execution_count": 4,
      "metadata": {
        "colab": {
          "base_uri": "https://localhost:8080/",
          "height": 229
        },
        "id": "oRL1q3vO9g9X",
        "outputId": "d2967211-109c-4192-f0ba-2b9594907f35"
      },
      "outputs": [
        {
          "output_type": "stream",
          "name": "stdout",
          "text": [
            "Downloading data from https://www.cs.toronto.edu/~kriz/cifar-100-python.tar.gz\n",
            "\u001b[1m169001437/169001437\u001b[0m \u001b[32m━━━━━━━━━━━━━━━━━━━━\u001b[0m\u001b[37m\u001b[0m \u001b[1m13s\u001b[0m 0us/step\n"
          ]
        },
        {
          "output_type": "display_data",
          "data": {
            "text/plain": [
              "<Figure size 1000x200 with 5 Axes>"
            ],
            "image/png": "[encoded data removed]"
          },
          "metadata": {}
        }
      ],
      "source": [
        "(train_x, train_y), (test_x, test_y) = tf.keras.datasets.cifar100.load_data()\n",
        "\n",
        "num_classes = 100\n",
        "\n",
        "plt.figure(figsize=(10, 2))\n",
        "for i in range(5):\n",
        "    plt.subplot(1, 5, i + 1)\n",
        "    plt.imshow(train_x[i])\n",
        "    plt.title(f\"Label:{train_y[i][0]}\")\n",
        "    plt.axis('off')\n",
        "plt.show()\n"
      ]
    },
    {
      "cell_type": "code",
      "execution_count": 5,
      "metadata": {
        "colab": {
          "base_uri": "https://localhost:8080/"
        },
        "id": "Mi1pwJrQ9g9Y",
        "outputId": "6df4f911-a1a5-435f-a5a9-d7815bae2672"
      },
      "outputs": [
        {
          "output_type": "stream",
          "name": "stdout",
          "text": [
            "Befor scaling max and min: 255, 0\n",
            "After scaling max and min: 1.0, 0.0\n"
          ]
        }
      ],
      "source": [
        "# 정규화 진행\n",
        "print(f\"Befor scaling max and min: {train_x.max()}, {train_x.min()}\")\n",
        "train_x = train_x / 255.0\n",
        "test_x = test_x / 255.0\n",
        "print(f\"After scaling max and min: {train_x.max()}, {train_x.min()}\")"
      ]
    },
    {
      "cell_type": "code",
      "execution_count": 6,
      "metadata": {
        "id": "z42S3Jmr9g9Z"
      },
      "outputs": [],
      "source": [
        "# 모델의 파라미터 정의\n",
        "input_shape = (32, 32, 3) # 입력 이미지의 shape\n",
        "batch_size = 64 # 한번에 학습할 데이터의 개수, 트랜스포머에서는 병렬처리가 용이하므로 큰 값을 사용\n",
        "\n",
        "image_size = 72 # 패치 분할을 위한 입력 이미지를 재조정할 사이즈\n",
        "patch_size = 6 # 이미지를 나눌 패치의 사이즈, 각 이미지는 patch_size x patch_size 크기의 패치로 나누어진다\n",
        "num_patches = (image_size // patch_size) ** 2 # 이미지를 나눌 패치의 개수\n",
        "\n",
        "learning_rate = 1e-3 # 학습률\n",
        "weight_decay = 1e-4 # 가중치 감쇠, 오버피팅을 방지\n",
        "epochs = 30\n",
        "\n",
        "transformer_layers = 4 # 트랜스포머 내부의 인코더 레이어의 수, 더 많은 레이어는 모델의 복잡도와 학습 능력을 증가시킴, but 더 많은 계산량이 필요\n",
        "projection_dim = 64 # 패치를 투영할 때의 차원 수, 트랜스포머의 내부 차원과 관련이 있음\n",
        "num_heads = 4 # 멀티 헤드 어텐션에서의 헤드 수, 여러 개의 헤드를 사용하면 모델이 다양한 정보를 벙렬로 처리할 수 있음\n",
        "\n",
        "transformer_units = [projection_dim * 2, projection_dim] # 트랜스포머의 퍼드포워드 네트워크에서 사용되는 유닛의 수. 이 배열은 각 레이어에서의 유닛 수를 나타냄\n",
        "mlp_head_units = [2048, 1024] # 트랜스포머의 최종 레이어에서 사용되는 유닛의 수"
      ]
    },
    {
      "cell_type": "code",
      "execution_count": 7,
      "metadata": {
        "id": "qbEusNCm9g9a"
      },
      "outputs": [],
      "source": [
        "class PatchTokenization(layers.Layer):\n",
        "    def __init__(self, image_size=image_size, patch_size=patch_size, num_patches=num_patches, projection_dim=projection_dim, **kwargs):\n",
        "        super().__init__(**kwargs)\n",
        "        self.image_size = image_size\n",
        "        self.patch_size = patch_size\n",
        "        self.half_patch = patch_size // 2\n",
        "        self.flatten_patches = layers.Reshape((num_patches, -1))\n",
        "        self.projection = layers.Dense(projection_dim)\n",
        "        self.layer_norm = layers.LayerNormalization(epsilon=1e-6)\n",
        "\n",
        "    def call(self, images):\n",
        "        #입력 이미지를 패치로 나눔\n",
        "        patches = tf.image.extract_patches(images = images,\n",
        "                                           sizes=[1, self.patch_size, self.patch_size, 1], # 패치의 크기\n",
        "                                           strides=[1, self.patch_size, self.patch_size, 1], # 패치의 간격\n",
        "                                           rates=[1, 1, 1, 1],\n",
        "                                           padding='VALID') # 이미지 가장자리를 잘라내어 정확히 패치가 맞도록 함\n",
        "        flat_patches = self.flatten_patches(patches) # 패치 평탄화\n",
        "        tokens = self.projection(flat_patches) # 패치를 투영(각 패치를 고정된 사이즈의 벡터로 매핑) => transformer의 입력으로 사용\n",
        "        return (tokens, patches)"
      ]
    },
    {
      "cell_type": "code",
      "execution_count": 8,
      "metadata": {
        "colab": {
          "base_uri": "https://localhost:8080/",
          "height": 402
        },
        "id": "7inXUwuA9g9a",
        "outputId": "942b8f24-74b2-4220-d005-9e7ff88ba27d"
      },
      "outputs": [
        {
          "output_type": "stream",
          "name": "stderr",
          "text": [
            "/usr/local/lib/python3.10/dist-packages/keras/src/layers/layer.py:372: UserWarning: `build()` was called on layer 'patch_tokenization', however the layer does not have a `build()` method implemented and it looks like it has unbuilt state. This will cause the layer to be marked as built, despite not being actually built, which may cause failures down the line. Make sure to implement a proper `build()` method.\n",
            "  warnings.warn(\n"
          ]
        },
        {
          "output_type": "display_data",
          "data": {
            "text/plain": [
              "<Figure size 400x400 with 144 Axes>"
            ],
            "image/png": "[encoded data removed]"
          },
          "metadata": {}
        }
      ],
      "source": [
        "image = train_x[np.random.choice(range(train_x.shape[0]))]\n",
        "resized_image = tf.image.resize(tf.convert_to_tensor([image]), (image_size, image_size))\n",
        "\n",
        "# patch_tokenizer = PatchTokenization()\n",
        "# tokens, patches = patch_tokenizer(resized_image)\n",
        "(token, patch) = PatchTokenization()(resized_image) # 객체를 함수처럼 호출하여 사용 (call 메서드가 호출됨)\n",
        "(token, patch) = (token[0], patch[0])\n",
        "n = patch.shape[0]\n",
        "count = 1\n",
        "plt.figure(figsize=(4, 4))\n",
        "for row in range(n):\n",
        "    for col in range(n):\n",
        "        plt.subplot(n, n, count)\n",
        "        count += 1\n",
        "        image = tf.reshape(patch[row, col], (patch_size, patch_size, 3))\n",
        "        plt.imshow(image)\n",
        "        plt.axis('off')\n",
        "plt.show()"
      ]
    },
    {
      "cell_type": "code",
      "execution_count": 9,
      "metadata": {
        "id": "mSTxWDES9g9a"
      },
      "outputs": [],
      "source": [
        "class PatchEncoder(layers.Layer):\n",
        "    def __init__(self, num_heads=num_heads, projection_dim=projection_dim, **kwargs):\n",
        "        super().__init__(**kwargs)\n",
        "        self.num_patches = num_patches\n",
        "        # 각 패치의 위치에 대한 학습 가능한 임베딩을 생성 (패치의 토큰과 위치 임베딩을 더해 트랜스포머의 입력으로 사용)\n",
        "        self.position_embedding = layers.Embedding(input_dim=num_patches, output_dim=projection_dim) # 투영된 차원과 위치 임베딩은 같은 차원을 사용\n",
        "        self.positions = tf.range(start=0, limit=num_patches, delta=1) # 패치의 위치에 대한 인덱스를 생성성\n",
        "\n",
        "    def call(self, encoded_patches):\n",
        "        encoded_positions = self.position_embedding(self.positions)\n",
        "        encoded_patches = encoded_patches + encoded_positions # 위치 정보 추가\n",
        "        # 모델이 패치들 사이의 관계와 이미지 내에서 각 패치의 위치를 고려할 수 있게 함\n",
        "        return encoded_patches"
      ]
    },
    {
      "cell_type": "code",
      "execution_count": 10,
      "metadata": {
        "id": "UIab4J8U9g9b"
      },
      "outputs": [],
      "source": [
        "def mlp(x, hidden_units, dropout_rate):\n",
        "    for units in hidden_units:\n",
        "        x = layers.Dense(units, activation=tf.nn.gelu)(x)\n",
        "        x = layers.Dropout(dropout_rate)(x)\n",
        "    return x"
      ]
    },
    {
      "cell_type": "code",
      "execution_count": 11,
      "metadata": {
        "id": "EcQKmJpW9g9b"
      },
      "outputs": [],
      "source": [
        "def create_vit_classifier():\n",
        "    inputs = layers.Input(shape=input_shape)\n",
        "    x = layers.Normalization(axis=-1)(inputs)\n",
        "    x = layers.Resizing(image_size, image_size)(x) # 이미지를 정해진 크기로 재조정\n",
        "    (tokens, _) = PatchTokenization()(x) # 이미지를 패치로 분할 후 각 패치를 투영\n",
        "    encoded_patches = PatchEncoder()(tokens) # 패치 위치 정보 인코딩\n",
        "\n",
        "    attention_time = 0\n",
        "    ff_time = 0\n",
        "\n",
        "    for _ in range(transformer_layers):\n",
        "        # 멀티 헤드 어텐션과 퍼드포워드 네트워크를 포함하는 트랜스포머 레이어\n",
        "        start_time = time.time()\n",
        "        x1 = layers.LayerNormalization(epsilon=1e-6)(encoded_patches)\n",
        "        attention_output = layers.MultiHeadAttention(num_heads=num_heads, key_dim=projection_dim, dropout=0.1)(x1, x1)\n",
        "        attention_time += time.time() - start_time\n",
        "\n",
        "        x2 = layers.Add()([attention_output, encoded_patches])\n",
        "\n",
        "        start_time = time.time()\n",
        "        x3 = layers.LayerNormalization(epsilon=1e-6)(x2)\n",
        "        x3 = mlp(x3, hidden_units=transformer_units, dropout_rate=0.1)\n",
        "        ff_time += time.time() - start_time\n",
        "\n",
        "        encoded_patches = layers.Add()([x3, x2])\n",
        "\n",
        "    print(f\"Attention time : {attention_time}, feed forward time : {ff_time}\")\n",
        "\n",
        "    x = layers.LayerNormalization(epsilon=1e-6)(encoded_patches)\n",
        "    x = layers.Flatten()(x)\n",
        "    x = mlp(x, hidden_units=mlp_head_units, dropout_rate=0.5)\n",
        "    outputs = layers.Dense(num_classes)(x) # num_classes개의 클래스로 분류\n",
        "    model = models.Model(inputs=inputs, outputs=outputs)\n",
        "\n",
        "    model.attention_time = attention_time\n",
        "    model.ff_time = ff_time\n",
        "    return model"
      ]
    },
    {
      "cell_type": "code",
      "source": [
        "def predict_with_time(model, input_data):\n",
        "  predictions = model(input_data)\n",
        "\n",
        "  attention_time = model.attention_time\n",
        "  ff_time = model.ff_time\n",
        "\n",
        "  return predictions, attention_time, ff_time"
      ],
      "metadata": {
        "id": "Qqz-lqKF-C7n"
      },
      "execution_count": 12,
      "outputs": []
    },
    {
      "cell_type": "code",
      "execution_count": 13,
      "metadata": {
        "id": "mVnwqdSE9g9b"
      },
      "outputs": [],
      "source": [
        "# 코사인 감쇠 스케줄링 : 학습률을 점진적으로 감소시키는 방법\n",
        "class CosineDecay(tf.keras.optimizers.schedules.LearningRateSchedule):\n",
        "    def __init__(self, learning_rate_base, total_steps, warmup_learning_rate, warmup_steps):\n",
        "        super().__init__()\n",
        "        self.learning_rate_base = learning_rate_base\n",
        "        self.total_steps = total_steps\n",
        "        self.warmup_learning_rate = warmup_learning_rate\n",
        "        self.warmup_steps = warmup_steps\n",
        "        self.pi = tf.constant(np.pi)\n",
        "\n",
        "    def __call__(self, step):\n",
        "        if self.total_steps < self.warmup_steps:\n",
        "            raise ValueError('Total_steps must be larger or equal to warmup_steps.')\n",
        "        cos_annealed_lr = tf.cos(self.pi * (tf.cast(step, tf.float32) - self.warmup_steps) / float(self.total_steps - self.warmup_steps))\n",
        "        learning_rate = 0.5 * self.learning_rate_base * (1 + cos_annealed_lr)\n",
        "\n",
        "        if self.warmup_steps > 0 :\n",
        "            if self.learning_rate_base < self.warmup_learning_rate:\n",
        "                raise ValueError('Learning_rate_base must be larger or equal to warmup_learning_rate.')\n",
        "            slope = (self.learning_rate_base - self.warmup_learning_rate) / self.warmup_steps\n",
        "            warmup_lr = slope * tf.cast(step, tf.float32) + self.warmup_learning_rate\n",
        "            learning_rate = tf.where(step < self.warmup_steps, warmup_lr, learning_rate)\n",
        "\n",
        "        return tf.where(step > self.total_steps, 0.0, learning_rate, name='learning_rate')"
      ]
    },
    {
      "cell_type": "code",
      "execution_count": 14,
      "metadata": {
        "id": "FnAQZyhE9g9c"
      },
      "outputs": [],
      "source": [
        "total_steps = int((len(train_x) / batch_size) * epochs)\n",
        "warmup_epoch_percentage = 0.10\n",
        "warmup_steps = int(total_steps * warmup_epoch_percentage)\n",
        "scheduled_lrs = CosineDecay(learning_rate_base=learning_rate, total_steps=total_steps, warmup_learning_rate=0.0, warmup_steps=warmup_steps)"
      ]
    },
    {
      "cell_type": "code",
      "execution_count": 16,
      "metadata": {
        "colab": {
          "base_uri": "https://localhost:8080/"
        },
        "id": "Kj4aBKz89g9c",
        "outputId": "8de855f0-be83-4b4b-aafe-e5f9b06581bb"
      },
      "outputs": [
        {
          "output_type": "stream",
          "name": "stderr",
          "text": [
            "/usr/local/lib/python3.10/dist-packages/keras/src/layers/layer.py:372: UserWarning: `build()` was called on layer 'patch_tokenization_2', however the layer does not have a `build()` method implemented and it looks like it has unbuilt state. This will cause the layer to be marked as built, despite not being actually built, which may cause failures down the line. Make sure to implement a proper `build()` method.\n",
            "  warnings.warn(\n"
          ]
        },
        {
          "output_type": "stream",
          "name": "stdout",
          "text": [
            "Attention time : 0.11971926689147949, feed forward time : 0.08585786819458008\n"
          ]
        }
      ],
      "source": [
        "vit = create_vit_classifier()\n",
        "\n",
        "optimizer = tf.keras.optimizers.Adam(learning_rate = scheduled_lrs, weight_decay=weight_decay)\n",
        "\n",
        "vit.compile(optimizer=optimizer,\n",
        "             loss=tf.keras.losses.SparseCategoricalCrossentropy(from_logits=True),\n",
        "             metrics=[tf.keras.metrics.SparseCategoricalAccuracy(name = 'accuracy'), #모델 정확도\n",
        "                      tf.keras.metrics.SparseTopKCategoricalAccuracy(5, name='top-5-accuracy')]) # 모델의 상위 5개 예측 정확도"
      ]
    },
    {
      "cell_type": "code",
      "execution_count": 17,
      "metadata": {
        "colab": {
          "base_uri": "https://localhost:8080/"
        },
        "id": "Asm4YtKx9g9c",
        "outputId": "86671259-cc6d-4b71-af1e-a9e98c8d9258"
      },
      "outputs": [
        {
          "output_type": "stream",
          "name": "stdout",
          "text": [
            "Epoch 1/30\n",
            "\u001b[1m625/625\u001b[0m \u001b[32m━━━━━━━━━━━━━━━━━━━━\u001b[0m\u001b[37m\u001b[0m \u001b[1m61s\u001b[0m 30ms/step - accuracy: 0.0173 - loss: 4.8938 - top-5-accuracy: 0.0808 - val_accuracy: 0.0777 - val_loss: 4.0378 - val_top-5-accuracy: 0.2637\n",
            "Epoch 2/30\n",
            "\u001b[1m625/625\u001b[0m \u001b[32m━━━━━━━━━━━━━━━━━━━━\u001b[0m\u001b[37m\u001b[0m \u001b[1m6s\u001b[0m 9ms/step - accuracy: 0.0671 - loss: 4.1584 - top-5-accuracy: 0.2248 - val_accuracy: 0.1317 - val_loss: 3.7224 - val_top-5-accuracy: 0.3551\n",
            "Epoch 3/30\n",
            "\u001b[1m625/625\u001b[0m \u001b[32m━━━━━━━━━━━━━━━━━━━━\u001b[0m\u001b[37m\u001b[0m \u001b[1m6s\u001b[0m 9ms/step - accuracy: 0.0941 - loss: 3.9184 - top-5-accuracy: 0.2950 - val_accuracy: 0.1743 - val_loss: 3.5119 - val_top-5-accuracy: 0.4280\n",
            "Epoch 4/30\n",
            "\u001b[1m625/625\u001b[0m \u001b[32m━━━━━━━━━━━━━━━━━━━━\u001b[0m\u001b[37m\u001b[0m \u001b[1m6s\u001b[0m 9ms/step - accuracy: 0.1249 - loss: 3.7387 - top-5-accuracy: 0.3523 - val_accuracy: 0.1981 - val_loss: 3.3437 - val_top-5-accuracy: 0.4826\n",
            "Epoch 5/30\n",
            "\u001b[1m625/625\u001b[0m \u001b[32m━━━━━━━━━━━━━━━━━━━━\u001b[0m\u001b[37m\u001b[0m \u001b[1m6s\u001b[0m 9ms/step - accuracy: 0.1704 - loss: 3.4442 - top-5-accuracy: 0.4376 - val_accuracy: 0.2313 - val_loss: 3.1191 - val_top-5-accuracy: 0.5216\n",
            "Epoch 6/30\n",
            "\u001b[1m625/625\u001b[0m \u001b[32m━━━━━━━━━━━━━━━━━━━━\u001b[0m\u001b[37m\u001b[0m \u001b[1m6s\u001b[0m 9ms/step - accuracy: 0.2205 - loss: 3.1522 - top-5-accuracy: 0.5162 - val_accuracy: 0.2781 - val_loss: 2.8678 - val_top-5-accuracy: 0.5874\n",
            "Epoch 7/30\n",
            "\u001b[1m625/625\u001b[0m \u001b[32m━━━━━━━━━━━━━━━━━━━━\u001b[0m\u001b[37m\u001b[0m \u001b[1m6s\u001b[0m 9ms/step - accuracy: 0.2705 - loss: 2.8817 - top-5-accuracy: 0.5831 - val_accuracy: 0.2898 - val_loss: 2.8165 - val_top-5-accuracy: 0.6021\n",
            "Epoch 8/30\n",
            "\u001b[1m625/625\u001b[0m \u001b[32m━━━━━━━━━━━━━━━━━━━━\u001b[0m\u001b[37m\u001b[0m \u001b[1m6s\u001b[0m 9ms/step - accuracy: 0.3251 - loss: 2.6326 - top-5-accuracy: 0.6418 - val_accuracy: 0.3169 - val_loss: 2.7064 - val_top-5-accuracy: 0.6211\n",
            "Epoch 9/30\n",
            "\u001b[1m625/625\u001b[0m \u001b[32m━━━━━━━━━━━━━━━━━━━━\u001b[0m\u001b[37m\u001b[0m \u001b[1m6s\u001b[0m 9ms/step - accuracy: 0.3782 - loss: 2.3485 - top-5-accuracy: 0.7059 - val_accuracy: 0.3388 - val_loss: 2.6124 - val_top-5-accuracy: 0.6439\n",
            "Epoch 10/30\n",
            "\u001b[1m625/625\u001b[0m \u001b[32m━━━━━━━━━━━━━━━━━━━━\u001b[0m\u001b[37m\u001b[0m \u001b[1m6s\u001b[0m 9ms/step - accuracy: 0.4545 - loss: 2.0295 - top-5-accuracy: 0.7726 - val_accuracy: 0.3489 - val_loss: 2.5813 - val_top-5-accuracy: 0.6503\n",
            "Epoch 11/30\n",
            "\u001b[1m625/625\u001b[0m \u001b[32m━━━━━━━━━━━━━━━━━━━━\u001b[0m\u001b[37m\u001b[0m \u001b[1m6s\u001b[0m 9ms/step - accuracy: 0.5249 - loss: 1.7181 - top-5-accuracy: 0.8301 - val_accuracy: 0.3476 - val_loss: 2.6181 - val_top-5-accuracy: 0.6480\n",
            "Epoch 12/30\n",
            "\u001b[1m625/625\u001b[0m \u001b[32m━━━━━━━━━━━━━━━━━━━━\u001b[0m\u001b[37m\u001b[0m \u001b[1m6s\u001b[0m 9ms/step - accuracy: 0.6178 - loss: 1.3461 - top-5-accuracy: 0.8959 - val_accuracy: 0.3484 - val_loss: 2.6257 - val_top-5-accuracy: 0.6450\n",
            "Epoch 13/30\n",
            "\u001b[1m625/625\u001b[0m \u001b[32m━━━━━━━━━━━━━━━━━━━━\u001b[0m\u001b[37m\u001b[0m \u001b[1m6s\u001b[0m 9ms/step - accuracy: 0.6974 - loss: 1.0504 - top-5-accuracy: 0.9299 - val_accuracy: 0.3579 - val_loss: 2.7890 - val_top-5-accuracy: 0.6519\n",
            "Epoch 14/30\n",
            "\u001b[1m625/625\u001b[0m \u001b[32m━━━━━━━━━━━━━━━━━━━━\u001b[0m\u001b[37m\u001b[0m \u001b[1m6s\u001b[0m 9ms/step - accuracy: 0.7576 - loss: 0.8161 - top-5-accuracy: 0.9581 - val_accuracy: 0.3601 - val_loss: 2.8302 - val_top-5-accuracy: 0.6492\n",
            "Epoch 15/30\n",
            "\u001b[1m625/625\u001b[0m \u001b[32m━━━━━━━━━━━━━━━━━━━━\u001b[0m\u001b[37m\u001b[0m \u001b[1m6s\u001b[0m 9ms/step - accuracy: 0.8138 - loss: 0.6246 - top-5-accuracy: 0.9755 - val_accuracy: 0.3640 - val_loss: 2.9094 - val_top-5-accuracy: 0.6545\n",
            "Epoch 16/30\n",
            "\u001b[1m625/625\u001b[0m \u001b[32m━━━━━━━━━━━━━━━━━━━━\u001b[0m\u001b[37m\u001b[0m \u001b[1m6s\u001b[0m 9ms/step - accuracy: 0.8483 - loss: 0.5124 - top-5-accuracy: 0.9815 - val_accuracy: 0.3619 - val_loss: 3.0650 - val_top-5-accuracy: 0.6503\n",
            "Epoch 17/30\n",
            "\u001b[1m625/625\u001b[0m \u001b[32m━━━━━━━━━━━━━━━━━━━━\u001b[0m\u001b[37m\u001b[0m \u001b[1m6s\u001b[0m 9ms/step - accuracy: 0.8759 - loss: 0.4137 - top-5-accuracy: 0.9894 - val_accuracy: 0.3600 - val_loss: 3.1148 - val_top-5-accuracy: 0.6508\n",
            "Epoch 18/30\n",
            "\u001b[1m625/625\u001b[0m \u001b[32m━━━━━━━━━━━━━━━━━━━━\u001b[0m\u001b[37m\u001b[0m \u001b[1m6s\u001b[0m 9ms/step - accuracy: 0.8977 - loss: 0.3415 - top-5-accuracy: 0.9920 - val_accuracy: 0.3583 - val_loss: 3.1473 - val_top-5-accuracy: 0.6472\n",
            "Epoch 19/30\n",
            "\u001b[1m625/625\u001b[0m \u001b[32m━━━━━━━━━━━━━━━━━━━━\u001b[0m\u001b[37m\u001b[0m \u001b[1m6s\u001b[0m 9ms/step - accuracy: 0.9115 - loss: 0.2938 - top-5-accuracy: 0.9930 - val_accuracy: 0.3660 - val_loss: 3.1682 - val_top-5-accuracy: 0.6542\n",
            "Epoch 20/30\n",
            "\u001b[1m625/625\u001b[0m \u001b[32m━━━━━━━━━━━━━━━━━━━━\u001b[0m\u001b[37m\u001b[0m \u001b[1m6s\u001b[0m 9ms/step - accuracy: 0.9230 - loss: 0.2480 - top-5-accuracy: 0.9954 - val_accuracy: 0.3633 - val_loss: 3.3742 - val_top-5-accuracy: 0.6501\n",
            "Epoch 21/30\n",
            "\u001b[1m625/625\u001b[0m \u001b[32m━━━━━━━━━━━━━━━━━━━━\u001b[0m\u001b[37m\u001b[0m \u001b[1m6s\u001b[0m 9ms/step - accuracy: 0.9333 - loss: 0.2229 - top-5-accuracy: 0.9959 - val_accuracy: 0.3650 - val_loss: 3.2502 - val_top-5-accuracy: 0.6508\n",
            "Epoch 22/30\n",
            "\u001b[1m625/625\u001b[0m \u001b[32m━━━━━━━━━━━━━━━━━━━━\u001b[0m\u001b[37m\u001b[0m \u001b[1m6s\u001b[0m 9ms/step - accuracy: 0.9453 - loss: 0.1826 - top-5-accuracy: 0.9974 - val_accuracy: 0.3696 - val_loss: 3.2850 - val_top-5-accuracy: 0.6530\n",
            "Epoch 23/30\n",
            "\u001b[1m625/625\u001b[0m \u001b[32m━━━━━━━━━━━━━━━━━━━━\u001b[0m\u001b[37m\u001b[0m \u001b[1m6s\u001b[0m 9ms/step - accuracy: 0.9513 - loss: 0.1605 - top-5-accuracy: 0.9975 - val_accuracy: 0.3720 - val_loss: 3.3890 - val_top-5-accuracy: 0.6523\n",
            "Epoch 24/30\n",
            "\u001b[1m625/625\u001b[0m \u001b[32m━━━━━━━━━━━━━━━━━━━━\u001b[0m\u001b[37m\u001b[0m \u001b[1m6s\u001b[0m 9ms/step - accuracy: 0.9588 - loss: 0.1399 - top-5-accuracy: 0.9976 - val_accuracy: 0.3668 - val_loss: 3.4564 - val_top-5-accuracy: 0.6549\n",
            "Epoch 25/30\n",
            "\u001b[1m625/625\u001b[0m \u001b[32m━━━━━━━━━━━━━━━━━━━━\u001b[0m\u001b[37m\u001b[0m \u001b[1m6s\u001b[0m 9ms/step - accuracy: 0.9634 - loss: 0.1184 - top-5-accuracy: 0.9984 - val_accuracy: 0.3714 - val_loss: 3.6464 - val_top-5-accuracy: 0.6534\n",
            "Epoch 26/30\n",
            "\u001b[1m625/625\u001b[0m \u001b[32m━━━━━━━━━━━━━━━━━━━━\u001b[0m\u001b[37m\u001b[0m \u001b[1m6s\u001b[0m 9ms/step - accuracy: 0.9679 - loss: 0.1021 - top-5-accuracy: 0.9991 - val_accuracy: 0.3717 - val_loss: 3.5894 - val_top-5-accuracy: 0.6538\n",
            "Epoch 27/30\n",
            "\u001b[1m625/625\u001b[0m \u001b[32m━━━━━━━━━━━━━━━━━━━━\u001b[0m\u001b[37m\u001b[0m \u001b[1m6s\u001b[0m 9ms/step - accuracy: 0.9741 - loss: 0.0854 - top-5-accuracy: 0.9992 - val_accuracy: 0.3759 - val_loss: 3.6163 - val_top-5-accuracy: 0.6600\n",
            "Epoch 28/30\n",
            "\u001b[1m625/625\u001b[0m \u001b[32m━━━━━━━━━━━━━━━━━━━━\u001b[0m\u001b[37m\u001b[0m \u001b[1m6s\u001b[0m 9ms/step - accuracy: 0.9761 - loss: 0.0783 - top-5-accuracy: 0.9995 - val_accuracy: 0.3737 - val_loss: 3.7024 - val_top-5-accuracy: 0.6567\n",
            "Epoch 29/30\n",
            "\u001b[1m625/625\u001b[0m \u001b[32m━━━━━━━━━━━━━━━━━━━━\u001b[0m\u001b[37m\u001b[0m \u001b[1m6s\u001b[0m 9ms/step - accuracy: 0.9789 - loss: 0.0697 - top-5-accuracy: 0.9998 - val_accuracy: 0.3738 - val_loss: 3.5931 - val_top-5-accuracy: 0.6598\n",
            "Epoch 30/30\n",
            "\u001b[1m625/625\u001b[0m \u001b[32m━━━━━━━━━━━━━━━━━━━━\u001b[0m\u001b[37m\u001b[0m \u001b[1m5s\u001b[0m 9ms/step - accuracy: 0.9840 - loss: 0.0580 - top-5-accuracy: 0.9997 - val_accuracy: 0.3745 - val_loss: 3.6998 - val_top-5-accuracy: 0.6619\n"
          ]
        }
      ],
      "source": [
        "history = vit.fit(x = train_x, y = train_y, batch_size=batch_size, epochs=epochs, validation_split = 0.2)"
      ]
    },
    {
      "cell_type": "code",
      "source": [
        "vit.evaluate(test_x, test_y)"
      ],
      "metadata": {
        "colab": {
          "base_uri": "https://localhost:8080/"
        },
        "id": "C7xcmmvcAwyj",
        "outputId": "6609d202-a94f-4adb-e499-d12fa0a63bf0"
      },
      "execution_count": 18,
      "outputs": [
        {
          "output_type": "stream",
          "name": "stdout",
          "text": [
            "\u001b[1m313/313\u001b[0m \u001b[32m━━━━━━━━━━━━━━━━━━━━\u001b[0m\u001b[37m\u001b[0m \u001b[1m8s\u001b[0m 3ms/step - accuracy: 0.3808 - loss: 3.5999 - top-5-accuracy: 0.6727\n"
          ]
        },
        {
          "output_type": "execute_result",
          "data": {
            "text/plain": [
              "[3.6185121536254883, 0.3815999925136566, 0.669700026512146]"
            ]
          },
          "metadata": {},
          "execution_count": 18
        }
      ]
    },
    {
      "cell_type": "code",
      "source": [
        "image = train_x[np.random.choice(range(train_x.shape[0]))]\n",
        "image = np.expand_dims(image, axis=0)\n",
        "predictions, attention_time, ff_time = predict_with_time(vit, image)\n",
        "predictions = softmax(predictions)\n",
        "predicted_class = np.argmax(predictions, axis=1)\n",
        "\n",
        "print(f\"Predicted class : {predicted_class}\")\n",
        "print(f\"Total attention_time : {attention_time}\")\n",
        "print(f\"Total ff_time : {ff_time}\")"
      ],
      "metadata": {
        "colab": {
          "base_uri": "https://localhost:8080/"
        },
        "id": "-OwU0pLOEkl-",
        "outputId": "4e25b679-b60b-4f37-9eb0-5dd52aa847ba"
      },
      "execution_count": 21,
      "outputs": [
        {
          "output_type": "stream",
          "name": "stdout",
          "text": [
            "Predicted class : [90]\n",
            "Total attention_time : 0.11971926689147949\n",
            "Total ff_time : 0.08585786819458008\n"
          ]
        }
      ]
    }
  ],
  "metadata": {
    "kernelspec": {
      "display_name": "Python 3",
      "name": "python3"
    },
    "language_info": {
      "codemirror_mode": {
        "name": "ipython",
        "version": 3
      },
      "file_extension": ".py",
      "mimetype": "text/x-python",
      "name": "python",
      "nbconvert_exporter": "python",
      "pygments_lexer": "ipython3",
      "version": "3.12.4"
    },
    "colab": {
      "provenance": [],
      "machine_shape": "hm",
      "gpuType": "A100",
      "include_colab_link": true
    },
    "accelerator": "GPU"
  },
  "nbformat": 4,
  "nbformat_minor": 0
}